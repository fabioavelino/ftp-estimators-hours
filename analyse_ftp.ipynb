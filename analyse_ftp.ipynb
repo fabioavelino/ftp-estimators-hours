{
 "cells": [
  {
   "cell_type": "markdown",
   "metadata": {},
   "source": [
    "# Analyse de la relation entre FTP et heures d'entraînement\n",
    "\n",
    "Ce notebook analyse la relation entre le FTP et le nombre d'heures d'entraînement à l'aide d'une régression linéaire."
   ]
  },
  {
   "cell_type": "code",
   "execution_count": 1,
   "metadata": {},
   "outputs": [
    {
      "data": {},
      "execution_count": 1,
      "metadata": {},
      "output_type": "display_data"
    }
   ],
   "source": [
    "import pandas as pd\n",
    "import matplotlib.pyplot as plt\n",
    "from sklearn.linear_model import LinearRegression\n",
    "import numpy as np\n",
    "\n",
    "# Lecture du fichier CSV\n",
    "df = pd.read_csv('daniel.csv')\n",
    "\n",
    "# Préparation des données pour la régression\n",
    "X = df['hours'].values.reshape(-1, 1)  # Variable indépendante\n",
    "y = df['ftp'].values  # Variable dépendante\n",
    "\n",
    "# Création et entraînement du modèle de régression linéaire\n",
    "model = LinearRegression()\n",
    "model.fit(X, y)\n",
    "\n",
    "# Création de la visualisation\n",
    "plt.figure(figsize=(10, 6))\n",
    "plt.scatter(X, y, color='blue', label='Données réelles')\n",
    "plt.plot(X, model.predict(X), color='red', label='Régression linéaire')\n",
    "plt.xlabel('Heures d\\'entraînement')\n",
    "plt.ylabel('FTP')\n",
    "plt.title('Relation entre FTP et heures d\\'entraînement')\n",
    "plt.legend()\n",
    "plt.grid(True)\n",
    "plt.show()\n",
    "\n",
    "# Affichage de l'équation de la régression\n",
    "print(f'Équation de la régression linéaire :')\n",
    "print(f'FTP = {model.intercept_:.2f} + {model.coef_[0]:.2f} × Heures')"
   ]
  }
 ],
 "metadata": {
  "kernelspec": {
   "display_name": "Python 3",
   "language": "python",
   "name": "python3"
  },
  "language_info": {
   "codemirror_mode": {
    "name": "ipython",
    "version": 3
   },
   "file_extension": ".py",
   "mimetype": "text/x-python",
   "name": "python",
   "nbconvert_exporter": "python",
   "pygments_lexer": "ipython3",
   "version": "3.8.0"
  }
 },
 "nbformat": 4,
 "nbformat_minor": 4
}